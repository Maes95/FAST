{
 "cells": [
  {
   "cell_type": "markdown",
   "metadata": {},
   "source": [
    "# TCP with FAST and Test time"
   ]
  },
  {
   "cell_type": "code",
   "execution_count": 3,
   "metadata": {},
   "outputs": [],
   "source": [
    "# Libraries\n",
    "import warnings\n",
    "with warnings.catch_warnings():\n",
    "    warnings.filterwarnings(\"ignore\",category=FutureWarning)\n",
    "    import pandas as pd\n",
    "    import matplotlib.pyplot as plt\n",
    "    import seaborn as sns\n",
    "    sns.set(style=\"ticks\")\n",
    "    \n",
    "#projects = ['chart_v0', 'closure_v0',  'lang_v0', 'math_v0', 'time_v0']\n",
    "#projects = ['chart_v0', 'closure_v0',  'lang_v0']\n",
    "projects = ['kurento_v0']\n",
    "#algorithms = ['FAST-one','FAST-pw','FAST-time','FAST-time-mem']\n",
    "algorithms = ['FAST-one','FAST-pw','FAST-time', 'STR', 'I-TSD']"
   ]
  },
  {
   "cell_type": "code",
   "execution_count": 6,
   "metadata": {},
   "outputs": [],
   "source": [
    "# projects = ['chart_v0', 'closure_v0',  'lang_v0', 'math_v0', 'time_v0']\n",
    "# #projects = ['chart_v0', 'closure_v0',  'lang_v0']\n",
    "# algorithms = ['FAST-one','FAST-pw','FAST-time','FAST-time-mem']\n",
    "# #algorithms = ['FAST-time','FAST-mem']\n",
    "\n",
    "# for proj in projects:\n",
    "#     apdf = pd.DataFrame()\n",
    "#     time = pd.DataFrame()\n",
    "#     execTime = pd.DataFrame()\n",
    "#     for alg in algorithms:\n",
    "#         data = pd.read_csv('output/%s/%s-bbox.tsv' % (proj, alg), sep='\\t')\n",
    "#         apdf[alg] = data['APFD']\n",
    "#         time[alg] = data['PrioritizationTime']\n",
    "#         execTime[alg] = data['TimeToDetect']\n",
    "#     fig, axs = (plt.subplots(\n",
    "#         ncols=3, figsize=(16, 6), dpi=80, facecolor='w', edgecolor='k'))\n",
    "#     (sns.barplot(data=time, palette=\"Set2\", ax= axs[0])\n",
    "#         .set( ylabel='Time (seconds)', title=\"PrioritizationTime comparative\"))\n",
    "#     (sns.boxplot(data=execTime, palette=\"Set2\", ax= axs[1])\n",
    "#         .set( ylabel='ATBFD (seconds)', title=\"ATBFD comparative\"))\n",
    "#     (sns.boxplot(data=apdf, palette=\"Set2\", ax= axs[2])\n",
    "#         .set( ylabel='APFD', title=\"APFD comparative\"))\n",
    "#     plt.subplots_adjust(wspace = 0.4)\n",
    "#     fig.suptitle('Project: %s' % proj , fontsize=16)\n",
    "#     #plt.show()\n",
    "#     plt.savefig(proj+'.png')\n",
    "#     plt.close(fig)\n",
    "    "
   ]
  },
  {
   "cell_type": "code",
   "execution_count": 4,
   "metadata": {},
   "outputs": [],
   "source": [
    "\n",
    "\n",
    "for proj in projects:\n",
    "    apdf = pd.DataFrame()\n",
    "    time = pd.DataFrame()\n",
    "    execTime = pd.DataFrame()\n",
    "    apdf_c = pd.DataFrame()\n",
    "    for alg in algorithms:\n",
    "        data = pd.read_csv('output/%s/%s-bbox.tsv' % (proj, alg), sep='\\t')\n",
    "        apdf[alg] = data['APFD']\n",
    "        time[alg] = data['PrioritizationTime']\n",
    "        apdf_c[alg] = data['APFD_c']\n",
    "    fig, axs = (plt.subplots(\n",
    "        ncols=3, figsize=(16, 6), dpi=80, facecolor='w', edgecolor='k'))\n",
    "    (sns.barplot(data=time, palette=\"Set2\", ax= axs[0])\n",
    "        .set( ylabel='Time (seconds)', title=\"PrioritizationTime comparative\"))\n",
    "    (sns.boxplot(data=apdf_c, palette=\"Set2\", ax= axs[1])\n",
    "        .set( ylabel='APFD_c', title=\"APFD_c comparative\"))\n",
    "    (sns.boxplot(data=apdf, palette=\"Set2\", ax= axs[2])\n",
    "        .set( ylabel='APFD', title=\"APFD comparative\"))\n",
    "    plt.subplots_adjust(wspace = 0.4)\n",
    "    fig.suptitle('Project: %s' % proj , fontsize=16)\n",
    "    #plt.show()\n",
    "    plt.savefig(\"output/_images/\"+proj+'.png')\n",
    "    plt.close(fig)"
   ]
  }
 ],
 "metadata": {
  "kernelspec": {
   "display_name": "Python 2",
   "language": "python",
   "name": "python2"
  },
  "language_info": {
   "codemirror_mode": {
    "name": "ipython",
    "version": 2
   },
   "file_extension": ".py",
   "mimetype": "text/x-python",
   "name": "python",
   "nbconvert_exporter": "python",
   "pygments_lexer": "ipython2",
   "version": "2.7.15"
  }
 },
 "nbformat": 4,
 "nbformat_minor": 2
}
