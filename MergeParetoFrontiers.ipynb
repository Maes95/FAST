{
 "cells": [
  {
   "cell_type": "code",
   "execution_count": 1,
   "metadata": {},
   "outputs": [],
   "source": [
    "import numpy as np\n",
    "import pandas as pd\n",
    "import matplotlib\n",
    "import sys\n",
    "matplotlib.use('Agg')\n",
    "import matplotlib.pyplot as plt\n",
    "import matplotlib.patches as mpatches\n",
    "import csv"
   ]
  },
  {
   "cell_type": "code",
   "execution_count": 2,
   "metadata": {},
   "outputs": [],
   "source": [
    "def identify_pareto(scores):\n",
    "    # Count number of items\n",
    "    population_size = scores.shape[0]\n",
    "    # Create a NumPy index for scores on the pareto front (zero indexed)\n",
    "    population_ids = np.arange(population_size)\n",
    "    # Create a starting list of items on the Pareto front\n",
    "    # All items start off as being labelled as on the Parteo front\n",
    "    pareto_front = np.ones(population_size, dtype=bool)\n",
    "    # Loop through each item. This will then be compared with all other items\n",
    "    for i in range(population_size):\n",
    "        # Loop through all other items\n",
    "        diss = scores[i][1]\n",
    "        time = scores[i][2]\n",
    "        for j in range(population_size):\n",
    "            # Check if our 'i' point is dominated by out 'j' point\n",
    "            if (\n",
    "                (diss < scores[j][1] and time > scores[j][2])\n",
    "                or\n",
    "                (diss == scores[j][1] and time > scores[j][2])\n",
    "                or\n",
    "                (time == scores[j][2] and diss < scores[j][1])\n",
    "            ):\n",
    "                pareto_front[i] = 0\n",
    "                #print(scores[i],scores[j])\n",
    "                break\n",
    "    # Return ids of scenarios on pareto front\n",
    "    return population_ids[pareto_front]"
   ]
  },
  {
   "cell_type": "code",
   "execution_count": 3,
   "metadata": {},
   "outputs": [],
   "source": [
    "def get_pareto_frontier_and_plot(results, project):\n",
    "\n",
    "    data1, data2, data3 = results\n",
    "\n",
    "    ax = plt.gca()\n",
    "    \n",
    "    colors = ('r', 'b', 'y')\n",
    "    labels = []\n",
    "\n",
    "    for idx, data in enumerate(results):\n",
    "\n",
    "        scores = np.array(data)\n",
    "        pareto_front = []\n",
    "        points = []\n",
    "        pareto = identify_pareto(scores)\n",
    "        for solution in scores[pareto]:\n",
    "            point = (solution[1], solution[2], solution[3])\n",
    "            if point not in points:\n",
    "                points.append(point)\n",
    "                pareto_front.append(solution)\n",
    "        pareto_front_df = pd.DataFrame(pareto_front)\n",
    "        pareto_front_df.sort_values(1, inplace=True)\n",
    "        pareto_front = pareto_front_df.values\n",
    "        pareto_front_df[0] = pareto_front_df[0].astype(int)\n",
    "        x_all = scores[:, 1]\n",
    "        y_all = scores[:, 2]\n",
    "        x_pareto = pareto_front[:, 1]\n",
    "        y_pareto = pareto_front[:, 2]\n",
    "\n",
    "        ax.scatter(x_all, y_all, color=colors[idx])\n",
    "        ax.plot(x_pareto, y_pareto, color=colors[idx])\n",
    "        \n",
    "        patch = mpatches.Patch(color=colors[idx], label='%d iterations'%len(scores))\n",
    "        labels.append(patch)\n",
    "        \n",
    "    plt.xlabel('Dissimilarity')\n",
    "    plt.ylabel('Time (sec)')\n",
    "    plt.title(\"Solutions for project %s\"%project)\n",
    "    plt.show()\n",
    "    \n",
    "    plt.legend(handles=labels)\n",
    "    plt.savefig(\"output/_charts/%s.png\"%project)"
   ]
  },
  {
   "cell_type": "code",
   "execution_count": 4,
   "metadata": {},
   "outputs": [],
   "source": [
    "project = \"mockito\"\n",
    "\n",
    "data = ()\n",
    "\n",
    "for it in (1000, 500, 100):\n",
    "\n",
    "    data_aux = []\n",
    "\n",
    "    with open(\"output/%s_v0/FAST-time/%d_iterations/FAST-time-results.tsv\"%(project, it)) as fd:\n",
    "        tsvreader = csv.reader(fd, delimiter=\"\\t\")\n",
    "        for i, line in enumerate(tsvreader):\n",
    "            if i is 0: continue\n",
    "            data_aux.append([int(line[0]), float(line[1]),\n",
    "                        float(line[2]),  float(line[3])])\n",
    "    data = data + (data_aux,)"
   ]
  },
  {
   "cell_type": "code",
   "execution_count": 5,
   "metadata": {},
   "outputs": [],
   "source": [
    "get_pareto_frontier_and_plot(data, project)"
   ]
  }
 ],
 "metadata": {
  "kernelspec": {
   "display_name": "Python 3",
   "language": "python",
   "name": "python3"
  },
  "language_info": {
   "codemirror_mode": {
    "name": "ipython",
    "version": 3
   },
   "file_extension": ".py",
   "mimetype": "text/x-python",
   "name": "python",
   "nbconvert_exporter": "python",
   "pygments_lexer": "ipython3",
   "version": "3.7.3"
  }
 },
 "nbformat": 4,
 "nbformat_minor": 2
}
