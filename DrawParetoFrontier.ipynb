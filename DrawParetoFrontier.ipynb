{
 "cells": [
  {
   "cell_type": "code",
   "execution_count": 1,
   "metadata": {},
   "outputs": [],
   "source": [
    "import numpy as np\n",
    "import pandas as pd\n",
    "import matplotlib.pyplot as plt\n",
    "import csv"
   ]
  },
  {
   "cell_type": "code",
   "execution_count": 2,
   "metadata": {},
   "outputs": [],
   "source": [
    "data = []\n",
    "with open(\"output/kurento_v0/FAST-time-obj-func.tsv\") as fd:\n",
    "    tsvreader = csv.reader(fd, delimiter=\"\\t\")\n",
    "    for i, line in enumerate(tsvreader):\n",
    "        if i is 0: continue\n",
    "        data.append([ int(line[0]), float(line[1]), float(line[2]),  float(line[3]) ])"
   ]
  },
  {
   "cell_type": "code",
   "execution_count": 3,
   "metadata": {},
   "outputs": [
    {
     "data": {
      "image/png": "[encoded data removed]",
      "text/plain": [
       "<Figure size 432x288 with 1 Axes>"
      ]
     },
     "metadata": {
      "needs_background": "light"
     },
     "output_type": "display_data"
    }
   ],
   "source": [
    "scores = np.array(data)\n",
    "\n",
    "x = scores[:, 1]\n",
    "y = scores[:, 2]\n",
    "\n",
    "plt.scatter(x, y)\n",
    "plt.xlabel('Dissimilarity')\n",
    "plt.ylabel('Time (sec)')\n",
    "plt.show()"
   ]
  },
  {
   "cell_type": "code",
   "execution_count": 4,
   "metadata": {},
   "outputs": [],
   "source": [
    "def identify_pareto(scores):\n",
    "    # Count number of items\n",
    "    population_size = scores.shape[0]\n",
    "    # Create a NumPy index for scores on the pareto front (zero indexed)\n",
    "    population_ids = np.arange(population_size)\n",
    "    # Create a starting list of items on the Pareto front\n",
    "    # All items start off as being labelled as on the Parteo front\n",
    "    pareto_front = np.ones(population_size, dtype=bool)\n",
    "    # Loop through each item. This will then be compared with all other items\n",
    "    for i in range(population_size):\n",
    "        # Loop through all other items\n",
    "        diss = scores[i][1]\n",
    "        time = scores[i][2]\n",
    "        for j in range(population_size):\n",
    "            # Check if our 'i' pint is dominated by out 'j' point         \n",
    "            if (\n",
    "                    ( diss < scores[j][1] and time > scores[j][2] ) \n",
    "                    or \n",
    "                    ( diss == scores[j][1] and time > scores[j][2] )\n",
    "                    or\n",
    "                    ( time == scores[j][2] and diss < scores[j][1] )\n",
    "               ):\n",
    "                pareto_front[i] = 0\n",
    "                #print(scores[i],scores[j])\n",
    "                break\n",
    "\n",
    "    # Return ids of scenarios on pareto front\n",
    "    return population_ids[pareto_front]"
   ]
  },
  {
   "cell_type": "code",
   "execution_count": 6,
   "metadata": {},
   "outputs": [
    {
     "name": "stdout",
     "output_type": "stream",
     "text": [
      "\n",
      "Pareto front scores\n",
      "0.665259893057 313.621\n",
      "0.688194175754 1210.49\n",
      "0.683360160807 1207.68\n",
      "0.665337799835 317.871\n",
      "\n",
      "Len: 4\n"
     ]
    }
   ],
   "source": [
    "pareto_front = []\n",
    "points       = []\n",
    "pareto       = identify_pareto(scores)\n",
    "for solution in scores[pareto]:\n",
    "    point = (solution[1], solution[2], solution[3])\n",
    "    if point not in points:\n",
    "        points.append(point)\n",
    "        pareto_front.append(solution)\n",
    "\n",
    "#pareto_front = scores[pareto]\n",
    "print('\\nPareto front scores')\n",
    "for i, a, b, c in pareto_front:\n",
    "    print(a,b)\n",
    "\n",
    "print(\"\\nLen: %d\"%len(pareto_front))\n"
   ]
  },
  {
   "cell_type": "code",
   "execution_count": 7,
   "metadata": {},
   "outputs": [
    {
     "data": {
      "text/html": [
       "<div>\n",
       "<style scoped>\n",
       "    .dataframe tbody tr th:only-of-type {\n",
       "        vertical-align: middle;\n",
       "    }\n",
       "\n",
       "    .dataframe tbody tr th {\n",
       "        vertical-align: top;\n",
       "    }\n",
       "\n",
       "    .dataframe thead th {\n",
       "        text-align: right;\n",
       "    }\n",
       "</style>\n",
       "<table border=\"1\" class=\"dataframe\">\n",
       "  <thead>\n",
       "    <tr style=\"text-align: right;\">\n",
       "      <th></th>\n",
       "      <th>SolutionIndex</th>\n",
       "      <th>Dissimilarity</th>\n",
       "      <th>Time</th>\n",
       "      <th>APFD_c</th>\n",
       "    </tr>\n",
       "  </thead>\n",
       "  <tbody>\n",
       "    <tr>\n",
       "      <th>0</th>\n",
       "      <td>22</td>\n",
       "      <td>0.665260</td>\n",
       "      <td>313.621</td>\n",
       "      <td>13.684510</td>\n",
       "    </tr>\n",
       "    <tr>\n",
       "      <th>3</th>\n",
       "      <td>883</td>\n",
       "      <td>0.665338</td>\n",
       "      <td>317.871</td>\n",
       "      <td>13.683287</td>\n",
       "    </tr>\n",
       "    <tr>\n",
       "      <th>2</th>\n",
       "      <td>143</td>\n",
       "      <td>0.683360</td>\n",
       "      <td>1207.680</td>\n",
       "      <td>14.032262</td>\n",
       "    </tr>\n",
       "    <tr>\n",
       "      <th>1</th>\n",
       "      <td>52</td>\n",
       "      <td>0.688194</td>\n",
       "      <td>1210.490</td>\n",
       "      <td>14.104406</td>\n",
       "    </tr>\n",
       "  </tbody>\n",
       "</table>\n",
       "</div>"
      ],
      "text/plain": [
       "   SolutionIndex  Dissimilarity      Time     APFD_c\n",
       "0             22       0.665260   313.621  13.684510\n",
       "3            883       0.665338   317.871  13.683287\n",
       "2            143       0.683360  1207.680  14.032262\n",
       "1             52       0.688194  1210.490  14.104406"
      ]
     },
     "execution_count": 7,
     "metadata": {},
     "output_type": "execute_result"
    }
   ],
   "source": [
    "pareto_front_df = pd.DataFrame(pareto_front)\n",
    "pareto_front_df.sort_values(1, inplace=True)\n",
    "pareto_front = pareto_front_df.values\n",
    "pareto_front_df[0] = pareto_front_df[0].astype(int)\n",
    "pareto_front_df.rename(columns={0: \"SolutionIndex\", 1:\"Dissimilarity\", 2:\"Time\", 3:\"APFD_c\"})"
   ]
  },
  {
   "cell_type": "code",
   "execution_count": 8,
   "metadata": {},
   "outputs": [
    {
     "data": {
      "image/png": "[encoded data removed]",
      "text/plain": [
       "<Figure size 432x288 with 1 Axes>"
      ]
     },
     "metadata": {
      "needs_background": "light"
     },
     "output_type": "display_data"
    }
   ],
   "source": [
    "x_all = scores[:, 1]\n",
    "y_all = scores[:, 2]\n",
    "x_pareto = pareto_front[:, 1]\n",
    "y_pareto = pareto_front[:, 2]\n",
    "\n",
    "plt.scatter(x_all, y_all)\n",
    "plt.plot(x_pareto, y_pareto, color='r')\n",
    "plt.xlabel('Dissimilarity')\n",
    "plt.ylabel('Time (sec)')\n",
    "plt.show()"
   ]
  }
 ],
 "metadata": {
  "kernelspec": {
   "display_name": "Python 3",
   "language": "python",
   "name": "python3"
  },
  "language_info": {
   "codemirror_mode": {
    "name": "ipython",
    "version": 3
   },
   "file_extension": ".py",
   "mimetype": "text/x-python",
   "name": "python",
   "nbconvert_exporter": "python",
   "pygments_lexer": "ipython3",
   "version": "3.7.3"
  }
 },
 "nbformat": 4,
 "nbformat_minor": 2
}
